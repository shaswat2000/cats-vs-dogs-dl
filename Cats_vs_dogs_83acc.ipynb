{
  "nbformat": 4,
  "nbformat_minor": 0,
  "metadata": {
    "colab": {
      "provenance": [],
      "collapsed_sections": [],
      "mount_file_id": "13FDtUA4mwbWeUcJ5qvTUvhH8_NUEXpa3",
      "authorship_tag": "ABX9TyPxCyy1Qha3M0Ig9Uj2Ib+B",
      "include_colab_link": true
    },
    "kernelspec": {
      "name": "python3",
      "display_name": "Python 3"
    },
    "accelerator": "GPU"
  },
  "cells": [
    {
      "cell_type": "markdown",
      "metadata": {
        "id": "view-in-github",
        "colab_type": "text"
      },
      "source": [
        "<a href=\"https://colab.research.google.com/github/shaswat2000/cats-vs-dogs-dl/blob/main/Cats_vs_dogs_83acc.ipynb\" target=\"_parent\"><img src=\"https://colab.research.google.com/assets/colab-badge.svg\" alt=\"Open In Colab\"/></a>"
      ]
    },
    {
      "cell_type": "code",
      "metadata": {
        "id": "plwuQflqnH5m"
      },
      "source": [
        "import tensorflow as tf\n",
        "import matplotlib.pyplot as plt\n",
        "import os\n",
        "import cv2\n",
        "import numpy as np\n",
        "import random\n",
        "from tqdm import tqdm"
      ],
      "execution_count": null,
      "outputs": []
    },
    {
      "cell_type": "code",
      "metadata": {
        "id": "XwITfOVZ1bLd",
        "outputId": "665a09a5-f6e5-4726-96a2-3d317f179055",
        "colab": {
          "base_uri": "https://localhost:8080/",
          "height": 34
        }
      },
      "source": [
        "from google.colab import drive\n",
        "drive.mount('/content/drive', force_remount = False)"
      ],
      "execution_count": null,
      "outputs": [
        {
          "output_type": "stream",
          "text": [
            "Drive already mounted at /content/drive; to attempt to forcibly remount, call drive.mount(\"/content/drive\", force_remount=True).\n"
          ],
          "name": "stdout"
        }
      ]
    },
    {
      "cell_type": "code",
      "metadata": {
        "id": "XScELEfawdCN"
      },
      "source": [
        "root_path = '/content/drive/My Drive/PetImages'\n",
        "CATEGORIES = ['Cat', 'Dog']"
      ],
      "execution_count": null,
      "outputs": []
    },
    {
      "cell_type": "code",
      "metadata": {
        "id": "h-KbrMQInXot"
      },
      "source": [
        "train_img = []\n",
        "train_label = []\n",
        "IMG_SIZE = 50\n",
        "x = 0\n",
        "\n",
        "#for category in CATEGORIES:\n",
        "category = 'Cat'\n",
        "path = os.path.join(root_path, category)\n",
        "for img in os.listdir(path):\n",
        "  try: \n",
        "    img_array = cv2.imread(os.path.join(path, img), cv2.IMREAD_GRAYSCALE)\n",
        "    img_array = cv2.resize(img_array, (IMG_SIZE, IMG_SIZE))\n",
        "    if category == 'Cat':\n",
        "      i = 0\n",
        "      \n",
        "    elif category == 'Dog':\n",
        "      i = 1\n",
        "  \n",
        "    if (x <= 5000):\n",
        "      train_img.append(img_array)\n",
        "      train_label.append(i)\n",
        "    else:\n",
        "      break\n",
        "    \n",
        "  except Exception as e:\n",
        "    pass \n",
        "  x = x+1\n",
        "  print('Cat '+str(x))\n",
        "\n",
        "category = 'Dog'\n",
        "x = 0\n",
        "path = os.path.join(root_path, category)\n",
        "for img in os.listdir(path):\n",
        "  try: \n",
        "    img_array = cv2.imread(os.path.join(path, img), cv2.IMREAD_GRAYSCALE)\n",
        "    img_array = cv2.resize(img_array, (IMG_SIZE, IMG_SIZE))\n",
        "    if category == 'Cat':\n",
        "      i = 0\n",
        "      \n",
        "    elif category == 'Dog':\n",
        "      i = 1\n",
        "    if (x <= 5000):  \n",
        "      train_img.append(img_array)\n",
        "      train_label.append(i)\n",
        "    \n",
        "    else:\n",
        "      break\n",
        "    \n",
        "  except Exception as e:\n",
        "    pass \n",
        "  x = x+1\n",
        "  print('Dog '+str(x))\n",
        "\n"
      ],
      "execution_count": null,
      "outputs": []
    },
    {
      "cell_type": "code",
      "metadata": {
        "id": "zfAxlgVQTjoR"
      },
      "source": [
        "temp = list(zip(train_img, train_label))\n",
        "random.shuffle(temp)\n",
        "train_img, train_label = zip(*temp)"
      ],
      "execution_count": null,
      "outputs": []
    },
    {
      "cell_type": "code",
      "metadata": {
        "id": "ZGXwgfejIcGP"
      },
      "source": [
        "train_img = np.array(train_img).reshape(-1, IMG_SIZE, IMG_SIZE, 1)\n",
        "train_img = (train_img)/255.0\n",
        "train_label = np.array(train_label)"
      ],
      "execution_count": null,
      "outputs": []
    },
    {
      "cell_type": "code",
      "metadata": {
        "id": "0SMLHaH5rmRS"
      },
      "source": [
        "model = tf.keras.models.Sequential([\n",
        "                                    tf.keras.layers.Conv2D(32, (3,3) , activation = 'relu', input_shape = (IMG_SIZE, IMG_SIZE, 1)),\n",
        "                                    #tf.keras.layers.MaxPooling2D(2,2),                                   \n",
        "                                    tf.keras.layers.Conv2D(64, (3,3), activation ='relu'),                     \n",
        "                                    tf.keras.layers.MaxPooling2D(2,2),\n",
        "                                    tf.keras.layers.Dropout(0.25),\n",
        "                                    tf.keras.layers.Conv2D(128, (3,3), activation ='relu'),                     \n",
        "                                    tf.keras.layers.MaxPooling2D(2,2),\n",
        "                                    tf.keras.layers.Dropout(0.25),                                           \n",
        "                                    tf.keras.layers.Conv2D(128, (3,3), activation ='relu'),\n",
        "                                    tf.keras.layers.MaxPooling2D(2,2),\n",
        "                                    tf.keras.layers.Dropout(0.25),\n",
        "                                    tf.keras.layers.Flatten(),                                 \n",
        "                                    tf.keras.layers.Dense(64, activation= 'relu'),\n",
        "                                    tf.keras.layers.Dropout(0.5),\n",
        "                                    tf.keras.layers.Dense(64, activation= 'relu'),\n",
        "                                    tf.keras.layers.Dropout(0.5),\n",
        "                                    tf.keras.layers.Dense(2, activation = 'softmax')\n",
        "])\n"
      ],
      "execution_count": null,
      "outputs": []
    },
    {
      "cell_type": "code",
      "metadata": {
        "id": "WZUr4rojGNZ-"
      },
      "source": [
        "model.compile(optimizer = 'sgd', loss = 'sparse_categorical_crossentropy', metrics = ['accuracy'])"
      ],
      "execution_count": null,
      "outputs": []
    },
    {
      "cell_type": "code",
      "metadata": {
        "id": "GYq_fB-Gij50"
      },
      "source": [
        "datagen = tf.keras.preprocessing.image.ImageDataGenerator(rotation_range = 20, width_shift_range = 0.2, height_shift_range = 0.2, brightness_range = [0.7, 1.2], zoom_range = [0.5, 1.5], horizontal_flip = True, rescale = 1/255.0, preprocessing_function= None)"
      ],
      "execution_count": null,
      "outputs": []
    },
    {
      "cell_type": "code",
      "metadata": {
        "id": "9cbvOnrGZm4u"
      },
      "source": [
        "epochs = 500\n",
        "model.fit_generator(datagen.flow(train_img, train_label, batch_size= 10),\n",
        "                    steps_per_epoch=len(train_img) / 10, epochs=epochs, validation_data = (test_img, test_label))"
      ],
      "execution_count": null,
      "outputs": []
    },
    {
      "cell_type": "code",
      "metadata": {
        "id": "efsEkomVRMpX"
      },
      "source": [
        "times = 0\n",
        "while(times<=4):\n",
        "  model.fit(train_img, train_label, epochs = 100, shuffle = True, batch_size = 64, validation_split = 0.20)\n",
        "  times = times+1"
      ],
      "execution_count": null,
      "outputs": []
    },
    {
      "cell_type": "code",
      "metadata": {
        "id": "YPao579-EqrC"
      },
      "source": [
        "test_img = []\n",
        "test_label = []\n",
        "x = 0\n",
        "\n",
        "category = 'Test_cat'\n",
        "path = os.path.join(root_path, category)\n",
        "for img in os.listdir(path):\n",
        "  try: \n",
        "    img_array = cv2.imread(os.path.join(path, img), cv2.IMREAD_GRAYSCALE)\n",
        "    img_array = cv2.resize(img_array, (IMG_SIZE, IMG_SIZE))\n",
        "    if category == 'Test_cat':\n",
        "      i = 0\n",
        "      \n",
        "    elif category == 'Test_dog':\n",
        "      i = 1\n",
        "  \n",
        "    if (x <= 250):\n",
        "      test_img.append(img_array)\n",
        "      test_label.append(i)\n",
        "    else:\n",
        "      break\n",
        "    \n",
        "  except Exception as e:\n",
        "    pass \n",
        "  x = x+1\n",
        "  print('Test_cat '+str(x))\n",
        "\n",
        "category = 'Test_dog'\n",
        "x = 0\n",
        "path = os.path.join(root_path, category)\n",
        "for img in os.listdir(path):\n",
        "  try: \n",
        "    img_array = cv2.imread(os.path.join(path, img), cv2.IMREAD_GRAYSCALE)\n",
        "    img_array = cv2.resize(img_array, (IMG_SIZE, IMG_SIZE))\n",
        "    if category == 'Test_cat':\n",
        "      i = 0\n",
        "      \n",
        "    elif category == 'Test_dog':\n",
        "      i = 1\n",
        "    if (x <= 250):  \n",
        "      test_img.append(img_array)\n",
        "      test_label.append(i)\n",
        "    \n",
        "    else:\n",
        "      break\n",
        "    \n",
        "  except Exception as e:\n",
        "    pass \n",
        "  x = x+1\n",
        "  print('Test_dog '+str(x))\n",
        "\n",
        "test_img = np.array(test_img).reshape(-1, IMG_SIZE, IMG_SIZE, 1)\n",
        "test_img = (test_img)/255.0\n",
        "test_label = np.array(test_label)\n",
        "\n"
      ],
      "execution_count": null,
      "outputs": []
    },
    {
      "cell_type": "code",
      "metadata": {
        "id": "oUtmzaxZ-yc-",
        "outputId": "b8e1d475-0561-44f9-91c1-8cb0aaa86aa6",
        "colab": {
          "base_uri": "https://localhost:8080/",
          "height": 51
        }
      },
      "source": [
        "model.evaluate(test_img, test_label)\n",
        "#print(val_loss, val_acc)"
      ],
      "execution_count": null,
      "outputs": [
        {
          "output_type": "stream",
          "text": [
            "7/7 [==============================] - 0s 5ms/step - loss: 88.7807 - accuracy: 0.5050 \n"
          ],
          "name": "stdout"
        },
        {
          "output_type": "execute_result",
          "data": {
            "text/plain": [
              "[88.78074645996094, 0.5049505233764648]"
            ]
          },
          "metadata": {
            "tags": []
          },
          "execution_count": 23
        }
      ]
    },
    {
      "cell_type": "code",
      "metadata": {
        "id": "g2DI1B1E_6f5"
      },
      "source": [
        "model.save('cats_vs_dogs_89aug.h5')\n",
        "#model_save_name = 'cats_vs_dogs_88acc.pt'\n",
        "#path = F\"/content/drive/My Drive/PetImages/{model_save_name}\"\n",
        "#torch.save(model.state_dict(), PATH)\n",
        "\n",
        "#model.load_state_dict(torch.load(path))"
      ],
      "execution_count": null,
      "outputs": []
    },
    {
      "cell_type": "code",
      "metadata": {
        "id": "6OOQQ_EH2I-I"
      },
      "source": [
        "model = tf.keras.models.load_model('/content/drive/My Drive/cats_vs_dogs_86aug.h5')"
      ],
      "execution_count": null,
      "outputs": []
    },
    {
      "cell_type": "code",
      "metadata": {
        "id": "4KUaE1TRecTS",
        "outputId": "d3f84023-69d7-43e5-967c-35df8ef09c8f",
        "colab": {
          "base_uri": "https://localhost:8080/",
          "height": 68
        }
      },
      "source": [
        "IMG_SIZE = 50\n",
        "path = r'/content/drive/My Drive/PetImages/download (1).jpg'\n",
        "img2 = cv2.imread(path, cv2.IMREAD_GRAYSCALE)\n",
        "img2 = cv2.resize(img2, (IMG_SIZE, IMG_SIZE))\n",
        "img2 = np.array(img2).reshape(-1, IMG_SIZE, IMG_SIZE, 1)\n",
        "img2 = (img2-127.5)/127.5\n",
        "ans = model.predict([img2])\n",
        "print(ans)\n",
        "a = ans.argmax()\n",
        "print(ans.argmax())\n",
        "b=round(a)\n",
        "b = int(b)\n",
        "print(CATEGORIES[b])"
      ],
      "execution_count": null,
      "outputs": [
        {
          "output_type": "stream",
          "text": [
            "[[0.9973792  0.00262087]]\n",
            "0\n",
            "Cat\n"
          ],
          "name": "stdout"
        }
      ]
    },
    {
      "cell_type": "code",
      "metadata": {
        "id": "bu4aNi8jp3IN"
      },
      "source": [],
      "execution_count": null,
      "outputs": []
    }
  ]
}